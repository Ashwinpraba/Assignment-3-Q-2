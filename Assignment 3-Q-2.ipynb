{
 "cells": [
  {
   "cell_type": "markdown",
   "id": "25bbc754",
   "metadata": {},
   "source": [
    "# Write a Python program to reverse a string."
   ]
  },
  {
   "cell_type": "code",
   "execution_count": 1,
   "id": "e4709fb1",
   "metadata": {},
   "outputs": [
    {
     "name": "stdout",
     "output_type": "stream",
     "text": [
      "Enter a string:Edyoda2023\n",
      "Reversed string is: 3202adoydE\n"
     ]
    }
   ],
   "source": [
    "str = input(\"Enter a string:\" )\n",
    "def reverse(str):   \n",
    "    str = str[::-1]   \n",
    "    return str      \n",
    "print(\"Reversed string is:\",reverse(str))"
   ]
  },
  {
   "cell_type": "code",
   "execution_count": null,
   "id": "f347a840",
   "metadata": {},
   "outputs": [],
   "source": [
    "str = input(\"Enter a string:\" )\n",
    "def reverse(str):   \n",
    "    str = str[::-1]   \n",
    "    return str      \n",
    "print(\"Reversed string is:\",reverse(str))"
   ]
  }
 ],
 "metadata": {
  "kernelspec": {
   "display_name": "Python 3 (ipykernel)",
   "language": "python",
   "name": "python3"
  },
  "language_info": {
   "codemirror_mode": {
    "name": "ipython",
    "version": 3
   },
   "file_extension": ".py",
   "mimetype": "text/x-python",
   "name": "python",
   "nbconvert_exporter": "python",
   "pygments_lexer": "ipython3",
   "version": "3.11.3"
  }
 },
 "nbformat": 4,
 "nbformat_minor": 5
}
